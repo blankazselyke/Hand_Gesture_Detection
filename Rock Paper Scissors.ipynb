{
 "cells": [
  {
   "cell_type": "code",
   "execution_count": 1,
   "id": "6a8572a7-5a9a-4c49-9e0c-d2f92af702ee",
   "metadata": {},
   "outputs": [],
   "source": [
    "import csv\n",
    "\n",
    "import numpy as np\n",
    "import tensorflow as ts\n",
    "from sklearn.model_selection import train_test_split"
   ]
  },
  {
   "cell_type": "code",
   "execution_count": 2,
   "id": "31869eaa-1bbd-409d-9aa4-5d1034057025",
   "metadata": {},
   "outputs": [],
   "source": [
    "data = 'rock_paper_scissors.csv'"
   ]
  },
  {
   "cell_type": "code",
   "execution_count": 3,
   "id": "26124d44-3b6a-417a-b5a7-954ea0810120",
   "metadata": {},
   "outputs": [],
   "source": [
    "X_data = np.loadtxt(data, delimiter=',', dtype='float32', usecols=list(range(1, (21 * 2) + 1)))"
   ]
  },
  {
   "cell_type": "code",
   "execution_count": 4,
   "id": "91538abc-f4b8-4215-a41a-0fcef8d631bc",
   "metadata": {},
   "outputs": [
    {
     "data": {
      "text/plain": [
       "array([[ 0.    ,  0.    ,  0.0582, ...,  0.2089,  0.0856,  0.161 ],\n",
       "       [ 0.    ,  0.    ,  0.061 , ...,  0.1898,  0.0508,  0.1627],\n",
       "       [ 0.    ,  0.    ,  0.0627, ...,  0.23  ,  0.0801,  0.1882],\n",
       "       ...,\n",
       "       [ 0.    ,  0.    , -0.0221, ..., -0.2325, -0.1402, -0.2804],\n",
       "       [ 0.    ,  0.    , -0.0567, ..., -0.0648, -0.1134, -0.1255],\n",
       "       [ 0.    ,  0.    , -0.0711, ..., -0.0489, -0.0356, -0.1022]],\n",
       "      dtype=float32)"
      ]
     },
     "execution_count": 4,
     "metadata": {},
     "output_type": "execute_result"
    }
   ],
   "source": [
    "X_data"
   ]
  },
  {
   "cell_type": "code",
   "execution_count": 11,
   "id": "53a2d66f-9176-48a6-8464-d6de2640eeb7",
   "metadata": {},
   "outputs": [
    {
     "data": {
      "text/plain": [
       "(1500, 42)"
      ]
     },
     "execution_count": 11,
     "metadata": {},
     "output_type": "execute_result"
    }
   ],
   "source": [
    "X_data.shape"
   ]
  },
  {
   "cell_type": "code",
   "execution_count": 6,
   "id": "3652702b-1e13-4486-b3c5-dfce3260ae47",
   "metadata": {},
   "outputs": [],
   "source": [
    "y_data = np.loadtxt(data, delimiter=',', dtype='int32', usecols=(0))"
   ]
  },
  {
   "cell_type": "code",
   "execution_count": 7,
   "id": "efefd99d-0e98-4b3e-a1fd-1a2ceb81c66d",
   "metadata": {},
   "outputs": [
    {
     "data": {
      "text/plain": [
       "array([0, 0, 0, ..., 2, 2, 2])"
      ]
     },
     "execution_count": 7,
     "metadata": {},
     "output_type": "execute_result"
    }
   ],
   "source": [
    "y_data"
   ]
  },
  {
   "cell_type": "code",
   "execution_count": 8,
   "id": "eb231fc7-2316-450b-829e-b0cfc3bdbbeb",
   "metadata": {},
   "outputs": [],
   "source": [
    "X_train, X_test, y_train, y_test = train_test_split(X_data, y_data, test_size=0.25)"
   ]
  },
  {
   "cell_type": "code",
   "execution_count": 14,
   "id": "03668a3e-9e27-4ef2-8fea-bd0d9119622c",
   "metadata": {},
   "outputs": [],
   "source": [
    "from tensorflow.keras.models import Sequential, Model\n",
    "from tensorflow.keras.layers import Dense, Input, Dropout\n",
    "from tensorflow.keras.optimizers import Adam"
   ]
  },
  {
   "cell_type": "code",
   "execution_count": 15,
   "id": "7cf800a2-3340-4bd5-8481-3c82ee7404f2",
   "metadata": {},
   "outputs": [
    {
     "data": {
      "text/plain": [
       "(1125, 42)"
      ]
     },
     "execution_count": 15,
     "metadata": {},
     "output_type": "execute_result"
    }
   ],
   "source": [
    "X_train.shape"
   ]
  },
  {
   "cell_type": "code",
   "execution_count": 16,
   "id": "ffab2b29-8fa3-42d5-a34b-f32644c789c7",
   "metadata": {},
   "outputs": [
    {
     "data": {
      "text/plain": [
       "(1125,)"
      ]
     },
     "execution_count": 16,
     "metadata": {},
     "output_type": "execute_result"
    }
   ],
   "source": [
    "y_train.shape"
   ]
  },
  {
   "cell_type": "code",
   "execution_count": 17,
   "id": "bbfd0a1f-38fe-4415-8d35-ad8ac20b90e4",
   "metadata": {},
   "outputs": [],
   "source": [
    "model = Sequential([\n",
    "    Dense(32, activation='relu', input_shape=(42,)),\n",
    "    Dropout(0.1),\n",
    "    Dense(16, activation='relu'),\n",
    "    Dropout(0.1),\n",
    "    Dense(3, activation='softmax')\n",
    "])\n",
    "\n",
    "model.compile(optimizer='adam', loss='sparse_categorical_crossentropy', metrics=['accuracy'])"
   ]
  },
  {
   "cell_type": "code",
   "execution_count": 19,
   "id": "116ba301-6061-4527-84cf-066d7b5466ae",
   "metadata": {},
   "outputs": [
    {
     "name": "stdout",
     "output_type": "stream",
     "text": [
      "Epoch 1/100\n",
      "141/141 [==============================] - 3s 10ms/step - loss: 0.9453 - accuracy: 0.5689 - val_loss: 0.7652 - val_accuracy: 0.7307\n",
      "Epoch 2/100\n",
      "141/141 [==============================] - 1s 4ms/step - loss: 0.6408 - accuracy: 0.7689 - val_loss: 0.4856 - val_accuracy: 0.8800\n",
      "Epoch 3/100\n",
      "141/141 [==============================] - 1s 4ms/step - loss: 0.4424 - accuracy: 0.8524 - val_loss: 0.3276 - val_accuracy: 0.9440\n",
      "Epoch 4/100\n",
      "141/141 [==============================] - 1s 8ms/step - loss: 0.3299 - accuracy: 0.8898 - val_loss: 0.2402 - val_accuracy: 0.9520\n",
      "Epoch 5/100\n",
      "141/141 [==============================] - 1s 8ms/step - loss: 0.2301 - accuracy: 0.9227 - val_loss: 0.1544 - val_accuracy: 0.9627\n",
      "Epoch 6/100\n",
      "141/141 [==============================] - 1s 7ms/step - loss: 0.1958 - accuracy: 0.9396 - val_loss: 0.1162 - val_accuracy: 0.9627\n",
      "Epoch 7/100\n",
      "141/141 [==============================] - 1s 5ms/step - loss: 0.1628 - accuracy: 0.9556 - val_loss: 0.0914 - val_accuracy: 0.9680\n",
      "Epoch 8/100\n",
      "141/141 [==============================] - 1s 4ms/step - loss: 0.1249 - accuracy: 0.9636 - val_loss: 0.0750 - val_accuracy: 0.9787\n",
      "Epoch 9/100\n",
      "141/141 [==============================] - 1s 4ms/step - loss: 0.1148 - accuracy: 0.9609 - val_loss: 0.0682 - val_accuracy: 0.9813\n",
      "Epoch 10/100\n",
      "141/141 [==============================] - 1s 6ms/step - loss: 0.0936 - accuracy: 0.9742 - val_loss: 0.0556 - val_accuracy: 0.9760\n",
      "Epoch 11/100\n",
      "141/141 [==============================] - 1s 9ms/step - loss: 0.0838 - accuracy: 0.9742 - val_loss: 0.0421 - val_accuracy: 0.9813\n",
      "Epoch 12/100\n",
      "141/141 [==============================] - 1s 10ms/step - loss: 0.0747 - accuracy: 0.9813 - val_loss: 0.0429 - val_accuracy: 0.9867\n",
      "Epoch 13/100\n",
      "141/141 [==============================] - 1s 9ms/step - loss: 0.0709 - accuracy: 0.9813 - val_loss: 0.0410 - val_accuracy: 0.9867\n",
      "Epoch 14/100\n",
      "141/141 [==============================] - 1s 9ms/step - loss: 0.0632 - accuracy: 0.9831 - val_loss: 0.0400 - val_accuracy: 0.9867\n",
      "Epoch 15/100\n",
      "141/141 [==============================] - 1s 8ms/step - loss: 0.0582 - accuracy: 0.9813 - val_loss: 0.0217 - val_accuracy: 0.9947\n",
      "Epoch 16/100\n",
      "141/141 [==============================] - 1s 6ms/step - loss: 0.0463 - accuracy: 0.9876 - val_loss: 0.0284 - val_accuracy: 0.9947\n",
      "Epoch 17/100\n",
      "141/141 [==============================] - 1s 9ms/step - loss: 0.0416 - accuracy: 0.9893 - val_loss: 0.0264 - val_accuracy: 0.9893\n",
      "Epoch 18/100\n",
      "141/141 [==============================] - 1s 9ms/step - loss: 0.0444 - accuracy: 0.9902 - val_loss: 0.0208 - val_accuracy: 0.9947\n",
      "Epoch 19/100\n",
      "141/141 [==============================] - 1s 5ms/step - loss: 0.0519 - accuracy: 0.9867 - val_loss: 0.0293 - val_accuracy: 0.9893\n",
      "Epoch 20/100\n",
      "141/141 [==============================] - 1s 9ms/step - loss: 0.0408 - accuracy: 0.9911 - val_loss: 0.0164 - val_accuracy: 0.9947\n",
      "Epoch 21/100\n",
      "141/141 [==============================] - 1s 9ms/step - loss: 0.0384 - accuracy: 0.9876 - val_loss: 0.0160 - val_accuracy: 0.9947\n",
      "Epoch 22/100\n",
      "141/141 [==============================] - 1s 9ms/step - loss: 0.0347 - accuracy: 0.9902 - val_loss: 0.0155 - val_accuracy: 0.9920\n",
      "Epoch 23/100\n",
      "141/141 [==============================] - 1s 9ms/step - loss: 0.0412 - accuracy: 0.9920 - val_loss: 0.0105 - val_accuracy: 1.0000\n",
      "Epoch 24/100\n",
      "141/141 [==============================] - 1s 7ms/step - loss: 0.0321 - accuracy: 0.9947 - val_loss: 0.0183 - val_accuracy: 0.9920\n",
      "Epoch 25/100\n",
      "141/141 [==============================] - 1s 9ms/step - loss: 0.0396 - accuracy: 0.9858 - val_loss: 0.0115 - val_accuracy: 0.9973\n",
      "Epoch 26/100\n",
      "141/141 [==============================] - 1s 9ms/step - loss: 0.0294 - accuracy: 0.9929 - val_loss: 0.0110 - val_accuracy: 0.9947\n",
      "Epoch 27/100\n",
      "141/141 [==============================] - 1s 9ms/step - loss: 0.0350 - accuracy: 0.9902 - val_loss: 0.0207 - val_accuracy: 0.9920\n",
      "Epoch 28/100\n",
      "141/141 [==============================] - 1s 8ms/step - loss: 0.0239 - accuracy: 0.9938 - val_loss: 0.0080 - val_accuracy: 0.9973\n",
      "Epoch 29/100\n",
      "141/141 [==============================] - 1s 8ms/step - loss: 0.0296 - accuracy: 0.9902 - val_loss: 0.0291 - val_accuracy: 0.9947\n",
      "Epoch 30/100\n",
      "141/141 [==============================] - 1s 8ms/step - loss: 0.0277 - accuracy: 0.9938 - val_loss: 0.0092 - val_accuracy: 0.9973\n",
      "Epoch 31/100\n",
      "141/141 [==============================] - 1s 9ms/step - loss: 0.0248 - accuracy: 0.9938 - val_loss: 0.0178 - val_accuracy: 0.9920\n",
      "Epoch 32/100\n",
      "141/141 [==============================] - 1s 9ms/step - loss: 0.0186 - accuracy: 0.9973 - val_loss: 0.0223 - val_accuracy: 0.9893\n",
      "Epoch 33/100\n",
      "141/141 [==============================] - 1s 5ms/step - loss: 0.0248 - accuracy: 0.9929 - val_loss: 0.0074 - val_accuracy: 0.9973\n",
      "Epoch 34/100\n",
      "141/141 [==============================] - 1s 5ms/step - loss: 0.0248 - accuracy: 0.9929 - val_loss: 0.0098 - val_accuracy: 0.9947\n",
      "Epoch 35/100\n",
      "141/141 [==============================] - 1s 5ms/step - loss: 0.0155 - accuracy: 0.9982 - val_loss: 0.0178 - val_accuracy: 0.9947\n",
      "Epoch 36/100\n",
      "141/141 [==============================] - 1s 7ms/step - loss: 0.0254 - accuracy: 0.9938 - val_loss: 0.0269 - val_accuracy: 0.9920\n",
      "Epoch 37/100\n",
      "141/141 [==============================] - 1s 10ms/step - loss: 0.0214 - accuracy: 0.9938 - val_loss: 0.0119 - val_accuracy: 0.9947\n",
      "Epoch 38/100\n",
      "141/141 [==============================] - 1s 8ms/step - loss: 0.0170 - accuracy: 0.9964 - val_loss: 0.0143 - val_accuracy: 0.9947\n",
      "Epoch 39/100\n",
      "141/141 [==============================] - 1s 9ms/step - loss: 0.0180 - accuracy: 0.9956 - val_loss: 0.0130 - val_accuracy: 0.9947\n",
      "Epoch 40/100\n",
      "141/141 [==============================] - 1s 9ms/step - loss: 0.0345 - accuracy: 0.9893 - val_loss: 0.0149 - val_accuracy: 0.9947\n",
      "Epoch 41/100\n",
      "141/141 [==============================] - 1s 10ms/step - loss: 0.0158 - accuracy: 0.9964 - val_loss: 0.0085 - val_accuracy: 0.9973\n",
      "Epoch 42/100\n",
      "141/141 [==============================] - 1s 8ms/step - loss: 0.0143 - accuracy: 0.9982 - val_loss: 0.0053 - val_accuracy: 1.0000\n",
      "Epoch 43/100\n",
      "141/141 [==============================] - 1s 8ms/step - loss: 0.0142 - accuracy: 0.9964 - val_loss: 0.0063 - val_accuracy: 0.9973\n",
      "Epoch 44/100\n",
      "141/141 [==============================] - 1s 7ms/step - loss: 0.0181 - accuracy: 0.9956 - val_loss: 0.0119 - val_accuracy: 0.9947\n",
      "Epoch 45/100\n",
      "141/141 [==============================] - 1s 5ms/step - loss: 0.0166 - accuracy: 0.9973 - val_loss: 0.0056 - val_accuracy: 1.0000\n",
      "Epoch 46/100\n",
      "141/141 [==============================] - 1s 5ms/step - loss: 0.0141 - accuracy: 0.9973 - val_loss: 0.0049 - val_accuracy: 0.9973\n",
      "Epoch 47/100\n",
      "141/141 [==============================] - 1s 9ms/step - loss: 0.0156 - accuracy: 0.9947 - val_loss: 0.0115 - val_accuracy: 0.9947\n",
      "Epoch 48/100\n",
      "141/141 [==============================] - 1s 9ms/step - loss: 0.0133 - accuracy: 0.9964 - val_loss: 0.0066 - val_accuracy: 0.9973\n",
      "Epoch 49/100\n",
      "141/141 [==============================] - 1s 4ms/step - loss: 0.0226 - accuracy: 0.9938 - val_loss: 0.0123 - val_accuracy: 0.9947\n",
      "Epoch 50/100\n",
      "141/141 [==============================] - 1s 5ms/step - loss: 0.0150 - accuracy: 0.9964 - val_loss: 0.0063 - val_accuracy: 0.9973\n",
      "Epoch 51/100\n",
      "141/141 [==============================] - 1s 4ms/step - loss: 0.0197 - accuracy: 0.9947 - val_loss: 0.0125 - val_accuracy: 0.9947\n",
      "Epoch 52/100\n",
      "141/141 [==============================] - 1s 5ms/step - loss: 0.0164 - accuracy: 0.9956 - val_loss: 0.0035 - val_accuracy: 1.0000\n",
      "Epoch 53/100\n",
      "141/141 [==============================] - 1s 6ms/step - loss: 0.0131 - accuracy: 0.9982 - val_loss: 0.0023 - val_accuracy: 1.0000\n",
      "Epoch 54/100\n",
      "141/141 [==============================] - 1s 9ms/step - loss: 0.0093 - accuracy: 0.9982 - val_loss: 0.0087 - val_accuracy: 0.9947\n",
      "Epoch 55/100\n",
      "141/141 [==============================] - 1s 8ms/step - loss: 0.0126 - accuracy: 0.9982 - val_loss: 0.0119 - val_accuracy: 0.9947\n",
      "Epoch 56/100\n",
      "141/141 [==============================] - 1s 8ms/step - loss: 0.0128 - accuracy: 0.9964 - val_loss: 0.0032 - val_accuracy: 1.0000\n",
      "Epoch 57/100\n",
      "141/141 [==============================] - 1s 9ms/step - loss: 0.0128 - accuracy: 0.9982 - val_loss: 0.0068 - val_accuracy: 0.9947\n",
      "Epoch 58/100\n",
      "141/141 [==============================] - 1s 10ms/step - loss: 0.0127 - accuracy: 0.9973 - val_loss: 0.0045 - val_accuracy: 0.9973\n",
      "Epoch 59/100\n",
      "141/141 [==============================] - 1s 9ms/step - loss: 0.0109 - accuracy: 0.9991 - val_loss: 0.0083 - val_accuracy: 0.9947\n",
      "Epoch 60/100\n",
      "141/141 [==============================] - 2s 11ms/step - loss: 0.0106 - accuracy: 0.9964 - val_loss: 0.0032 - val_accuracy: 1.0000\n",
      "Epoch 61/100\n",
      "141/141 [==============================] - 1s 7ms/step - loss: 0.0088 - accuracy: 0.9982 - val_loss: 0.0368 - val_accuracy: 0.9920\n",
      "Epoch 62/100\n",
      "141/141 [==============================] - 1s 10ms/step - loss: 0.0121 - accuracy: 0.9973 - val_loss: 0.0156 - val_accuracy: 0.9947\n",
      "Epoch 63/100\n",
      "141/141 [==============================] - 1s 7ms/step - loss: 0.0098 - accuracy: 0.9982 - val_loss: 0.0120 - val_accuracy: 0.9947\n",
      "Epoch 64/100\n",
      "141/141 [==============================] - 1s 6ms/step - loss: 0.0094 - accuracy: 0.9973 - val_loss: 0.0038 - val_accuracy: 1.0000\n",
      "Epoch 65/100\n",
      "141/141 [==============================] - 1s 8ms/step - loss: 0.0195 - accuracy: 0.9956 - val_loss: 0.0070 - val_accuracy: 0.9973\n",
      "Epoch 66/100\n",
      "141/141 [==============================] - 1s 7ms/step - loss: 0.0078 - accuracy: 0.9973 - val_loss: 0.0139 - val_accuracy: 0.9947\n",
      "Epoch 67/100\n",
      "141/141 [==============================] - 1s 7ms/step - loss: 0.0117 - accuracy: 0.9964 - val_loss: 0.0245 - val_accuracy: 0.9947\n",
      "Epoch 68/100\n",
      "141/141 [==============================] - 1s 8ms/step - loss: 0.0078 - accuracy: 0.9991 - val_loss: 0.0015 - val_accuracy: 1.0000\n",
      "Epoch 69/100\n",
      "141/141 [==============================] - 1s 7ms/step - loss: 0.0161 - accuracy: 0.9947 - val_loss: 0.0100 - val_accuracy: 0.9947\n",
      "Epoch 70/100\n",
      "141/141 [==============================] - 1s 7ms/step - loss: 0.0100 - accuracy: 0.9973 - val_loss: 0.0018 - val_accuracy: 1.0000\n",
      "Epoch 71/100\n",
      "141/141 [==============================] - 1s 4ms/step - loss: 0.0085 - accuracy: 0.9982 - val_loss: 0.0037 - val_accuracy: 1.0000\n",
      "Epoch 72/100\n",
      "141/141 [==============================] - 1s 6ms/step - loss: 0.0062 - accuracy: 0.9991 - val_loss: 0.0069 - val_accuracy: 0.9947\n",
      "Epoch 73/100\n",
      "141/141 [==============================] - 1s 8ms/step - loss: 0.0080 - accuracy: 0.9991 - val_loss: 0.0111 - val_accuracy: 0.9947\n",
      "Epoch 74/100\n",
      "141/141 [==============================] - 1s 9ms/step - loss: 0.0080 - accuracy: 0.9982 - val_loss: 0.0022 - val_accuracy: 1.0000\n",
      "Epoch 75/100\n",
      "141/141 [==============================] - 1s 10ms/step - loss: 0.0092 - accuracy: 0.9973 - val_loss: 0.0034 - val_accuracy: 1.0000\n",
      "Epoch 76/100\n",
      "141/141 [==============================] - 1s 9ms/step - loss: 0.0216 - accuracy: 0.9938 - val_loss: 0.0128 - val_accuracy: 0.9947\n",
      "Epoch 77/100\n",
      "141/141 [==============================] - 1s 7ms/step - loss: 0.0138 - accuracy: 0.9947 - val_loss: 0.0033 - val_accuracy: 0.9973\n",
      "Epoch 78/100\n",
      "141/141 [==============================] - 1s 7ms/step - loss: 0.0081 - accuracy: 0.9991 - val_loss: 0.0061 - val_accuracy: 0.9973\n",
      "Epoch 79/100\n",
      "141/141 [==============================] - 1s 7ms/step - loss: 0.0069 - accuracy: 0.9982 - val_loss: 7.7822e-04 - val_accuracy: 1.0000\n",
      "Epoch 80/100\n",
      "141/141 [==============================] - 1s 5ms/step - loss: 0.0109 - accuracy: 0.9964 - val_loss: 6.5607e-04 - val_accuracy: 1.0000\n",
      "Epoch 81/100\n",
      "141/141 [==============================] - 1s 7ms/step - loss: 0.0060 - accuracy: 0.9982 - val_loss: 0.0137 - val_accuracy: 0.9947\n",
      "Epoch 82/100\n",
      "141/141 [==============================] - 1s 6ms/step - loss: 0.0099 - accuracy: 0.9956 - val_loss: 0.0128 - val_accuracy: 0.9947\n",
      "Epoch 83/100\n",
      "141/141 [==============================] - 1s 7ms/step - loss: 0.0138 - accuracy: 0.9956 - val_loss: 0.0106 - val_accuracy: 0.9947\n",
      "Epoch 84/100\n",
      "141/141 [==============================] - 1s 7ms/step - loss: 0.0154 - accuracy: 0.9964 - val_loss: 0.0032 - val_accuracy: 1.0000\n",
      "Epoch 85/100\n",
      "141/141 [==============================] - 1s 4ms/step - loss: 0.0128 - accuracy: 0.9964 - val_loss: 0.0123 - val_accuracy: 0.9947\n",
      "Epoch 86/100\n",
      "141/141 [==============================] - 1s 5ms/step - loss: 0.0077 - accuracy: 0.9973 - val_loss: 0.0140 - val_accuracy: 0.9947\n",
      "Epoch 87/100\n",
      "141/141 [==============================] - 1s 7ms/step - loss: 0.0158 - accuracy: 0.9956 - val_loss: 0.0249 - val_accuracy: 0.9947\n",
      "Epoch 88/100\n",
      "141/141 [==============================] - 1s 7ms/step - loss: 0.0066 - accuracy: 0.9982 - val_loss: 0.0013 - val_accuracy: 1.0000\n",
      "Epoch 89/100\n",
      "141/141 [==============================] - 1s 8ms/step - loss: 0.0069 - accuracy: 0.9973 - val_loss: 0.0082 - val_accuracy: 0.9947\n",
      "Epoch 90/100\n",
      "141/141 [==============================] - 1s 8ms/step - loss: 0.0067 - accuracy: 0.9982 - val_loss: 0.0049 - val_accuracy: 0.9947\n",
      "Epoch 91/100\n",
      "141/141 [==============================] - 1s 7ms/step - loss: 0.0074 - accuracy: 0.9973 - val_loss: 0.0042 - val_accuracy: 0.9973\n",
      "Epoch 92/100\n",
      "141/141 [==============================] - 1s 8ms/step - loss: 0.0198 - accuracy: 0.9938 - val_loss: 0.0251 - val_accuracy: 0.9947\n",
      "Epoch 93/100\n",
      "141/141 [==============================] - 1s 8ms/step - loss: 0.0069 - accuracy: 0.9973 - val_loss: 7.4007e-04 - val_accuracy: 1.0000\n",
      "Epoch 94/100\n",
      "141/141 [==============================] - 1s 7ms/step - loss: 0.0065 - accuracy: 0.9991 - val_loss: 0.0034 - val_accuracy: 1.0000\n",
      "Epoch 95/100\n",
      "141/141 [==============================] - 1s 7ms/step - loss: 0.0116 - accuracy: 0.9956 - val_loss: 0.0023 - val_accuracy: 1.0000\n",
      "Epoch 96/100\n",
      "141/141 [==============================] - 1s 7ms/step - loss: 0.0054 - accuracy: 0.9991 - val_loss: 0.0053 - val_accuracy: 0.9973\n",
      "Epoch 97/100\n",
      "141/141 [==============================] - 1s 7ms/step - loss: 0.0033 - accuracy: 1.0000 - val_loss: 0.0015 - val_accuracy: 1.0000\n",
      "Epoch 98/100\n",
      "141/141 [==============================] - 1s 7ms/step - loss: 0.0056 - accuracy: 0.9991 - val_loss: 0.0012 - val_accuracy: 1.0000\n",
      "Epoch 99/100\n",
      "141/141 [==============================] - 1s 6ms/step - loss: 0.0078 - accuracy: 0.9982 - val_loss: 8.3522e-04 - val_accuracy: 1.0000\n",
      "Epoch 100/100\n",
      "141/141 [==============================] - 1s 6ms/step - loss: 0.0073 - accuracy: 0.9973 - val_loss: 0.0035 - val_accuracy: 1.0000\n"
     ]
    }
   ],
   "source": [
    "history = model.fit(x=X_train, y=y_train, validation_data=(X_test, y_test), batch_size=8, epochs=100)"
   ]
  },
  {
   "cell_type": "code",
   "execution_count": 20,
   "id": "3c6fdb31-337a-4c19-b99f-aa5bb299d653",
   "metadata": {},
   "outputs": [
    {
     "name": "stdout",
     "output_type": "stream",
     "text": [
      "47/47 [==============================] - 0s 4ms/step - loss: 0.0035 - accuracy: 1.0000\n"
     ]
    }
   ],
   "source": [
    "val_loss, val_acc = model.evaluate(X_test, y_test, batch_size=8)"
   ]
  },
  {
   "cell_type": "code",
   "execution_count": 21,
   "id": "52aa0d07-535e-475f-a37a-2b0eb9da5b4f",
   "metadata": {},
   "outputs": [],
   "source": [
    "model.save('rps.h5')"
   ]
  },
  {
   "cell_type": "code",
   "execution_count": null,
   "id": "40b8637c-3c8b-4e6a-9b27-27e5349c4a9f",
   "metadata": {},
   "outputs": [],
   "source": []
  }
 ],
 "metadata": {
  "kernelspec": {
   "display_name": "Python 3 (ipykernel)",
   "language": "python",
   "name": "python3"
  },
  "language_info": {
   "codemirror_mode": {
    "name": "ipython",
    "version": 3
   },
   "file_extension": ".py",
   "mimetype": "text/x-python",
   "name": "python",
   "nbconvert_exporter": "python",
   "pygments_lexer": "ipython3",
   "version": "3.9.0"
  }
 },
 "nbformat": 4,
 "nbformat_minor": 5
}
