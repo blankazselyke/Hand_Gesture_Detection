{
 "cells": [
  {
   "cell_type": "code",
   "execution_count": 9,
   "id": "6a8572a7-5a9a-4c49-9e0c-d2f92af702ee",
   "metadata": {},
   "outputs": [],
   "source": [
    "import csv\n",
    "\n",
    "import numpy as np\n",
    "import tensorflow as ts\n",
    "from sklearn.model_selection import train_test_split"
   ]
  },
  {
   "cell_type": "code",
   "execution_count": 10,
   "id": "31869eaa-1bbd-409d-9aa4-5d1034057025",
   "metadata": {},
   "outputs": [],
   "source": [
    "data = 'C:/Adatok/gesture_data.csv'"
   ]
  },
  {
   "cell_type": "code",
   "execution_count": 11,
   "id": "26124d44-3b6a-417a-b5a7-954ea0810120",
   "metadata": {},
   "outputs": [],
   "source": [
    "X_data = np.loadtxt(data, delimiter=',', dtype='float32', usecols=list(range(1, (21 * 2) + 1)))"
   ]
  },
  {
   "cell_type": "code",
   "execution_count": 12,
   "id": "91538abc-f4b8-4215-a41a-0fcef8d631bc",
   "metadata": {},
   "outputs": [
    {
     "data": {
      "text/plain": [
       "array([[ 0.    ,  0.    ,  0.1219, ..., -0.6926, -0.1608, -0.7809],\n",
       "       [ 0.    ,  0.    ,  0.1206, ..., -0.6888, -0.1608, -0.7745],\n",
       "       [ 0.    ,  0.    ,  0.1206, ..., -0.6958, -0.1591, -0.785 ],\n",
       "       ...,\n",
       "       [ 0.    ,  0.    , -0.0643, ..., -0.7105,  0.1579, -0.7895],\n",
       "       [ 0.    ,  0.    , -0.0546, ..., -0.7098,  0.1724, -0.7989],\n",
       "       [ 0.    ,  0.    , -0.0616, ..., -0.6919,  0.1765, -0.7787]],\n",
       "      dtype=float32)"
      ]
     },
     "execution_count": 12,
     "metadata": {},
     "output_type": "execute_result"
    }
   ],
   "source": [
    "X_data"
   ]
  },
  {
   "cell_type": "code",
   "execution_count": 13,
   "id": "53a2d66f-9176-48a6-8464-d6de2640eeb7",
   "metadata": {},
   "outputs": [
    {
     "data": {
      "text/plain": [
       "array([ 0.    ,  0.    ,  0.1219, -0.0742,  0.2191, -0.2173,  0.288 ,\n",
       "       -0.3375,  0.3481, -0.4011,  0.1201, -0.5106,  0.1608, -0.6979,\n",
       "        0.1802, -0.8163,  0.1943, -0.917 ,  0.0459, -0.5406,  0.0601,\n",
       "       -0.7597,  0.0689, -0.894 ,  0.0724, -1.    , -0.0212, -0.523 ,\n",
       "       -0.03  , -0.7244, -0.0336, -0.8498, -0.0371, -0.9576, -0.0866,\n",
       "       -0.4611, -0.1201, -0.6007, -0.1431, -0.6926, -0.1608, -0.7809],\n",
       "      dtype=float32)"
      ]
     },
     "execution_count": 13,
     "metadata": {},
     "output_type": "execute_result"
    }
   ],
   "source": [
    "X_data[0]"
   ]
  },
  {
   "cell_type": "code",
   "execution_count": 14,
   "id": "3652702b-1e13-4486-b3c5-dfce3260ae47",
   "metadata": {},
   "outputs": [],
   "source": [
    "y_data = np.loadtxt(data, delimiter=',', dtype='int32', usecols=(0))"
   ]
  },
  {
   "cell_type": "code",
   "execution_count": 15,
   "id": "efefd99d-0e98-4b3e-a1fd-1a2ceb81c66d",
   "metadata": {},
   "outputs": [
    {
     "data": {
      "text/plain": [
       "array([1, 1, 1, ..., 3, 3, 3])"
      ]
     },
     "execution_count": 15,
     "metadata": {},
     "output_type": "execute_result"
    }
   ],
   "source": [
    "y_data"
   ]
  },
  {
   "cell_type": "code",
   "execution_count": 18,
   "id": "eb231fc7-2316-450b-829e-b0cfc3bdbbeb",
   "metadata": {},
   "outputs": [],
   "source": [
    "X_train, X_test, y_train, y_test = train_test_split(X_data, y_data, test_size=0.25)"
   ]
  },
  {
   "cell_type": "code",
   "execution_count": 21,
   "id": "03668a3e-9e27-4ef2-8fea-bd0d9119622c",
   "metadata": {},
   "outputs": [],
   "source": [
    "from tensorflow.keras.models import Sequential, Model\n",
    "from tensorflow.keras.layers import Dense, Input\n",
    "from tensorflow.keras.optimizers import Adam"
   ]
  },
  {
   "cell_type": "code",
   "execution_count": 22,
   "id": "7cf800a2-3340-4bd5-8481-3c82ee7404f2",
   "metadata": {},
   "outputs": [
    {
     "data": {
      "text/plain": [
       "(1028, 42)"
      ]
     },
     "execution_count": 22,
     "metadata": {},
     "output_type": "execute_result"
    }
   ],
   "source": [
    "X_train.shape"
   ]
  },
  {
   "cell_type": "code",
   "execution_count": 29,
   "id": "ffab2b29-8fa3-42d5-a34b-f32644c789c7",
   "metadata": {},
   "outputs": [
    {
     "data": {
      "text/plain": [
       "(1028,)"
      ]
     },
     "execution_count": 29,
     "metadata": {},
     "output_type": "execute_result"
    }
   ],
   "source": [
    "y_train.shape"
   ]
  },
  {
   "cell_type": "code",
   "execution_count": 31,
   "id": "bbfd0a1f-38fe-4415-8d35-ad8ac20b90e4",
   "metadata": {},
   "outputs": [],
   "source": [
    "# Define the model\n",
    "model = Sequential([\n",
    "    Dense(64, activation='relu', input_shape=(42,)),\n",
    "    Dense(32, activation='relu'),\n",
    "    Dense(16, activation='relu'),\n",
    "    Dense(3, activation='softmax')  # 10 output neurons for 10 classes, softmax for multi-class classification\n",
    "])\n",
    "\n",
    "# Compile the model\n",
    "model.compile(optimizer='adam', loss='sparse_categorical_crossentropy', metrics=['accuracy'])"
   ]
  },
  {
   "cell_type": "code",
   "execution_count": 34,
   "id": "b1b97236-f5a9-4a56-b033-a512c641674d",
   "metadata": {},
   "outputs": [],
   "source": [
    "y_train_adjusted = y_train - 1\n",
    "y_test_adjusted = y_test - 1"
   ]
  },
  {
   "cell_type": "code",
   "execution_count": 35,
   "id": "116ba301-6061-4527-84cf-066d7b5466ae",
   "metadata": {},
   "outputs": [
    {
     "name": "stdout",
     "output_type": "stream",
     "text": [
      "Epoch 1/100\n",
      "65/65 [==============================] - 1s 13ms/step - loss: 0.7947 - accuracy: 0.7558 - val_loss: 0.3582 - val_accuracy: 1.0000\n",
      "Epoch 2/100\n",
      "65/65 [==============================] - 0s 6ms/step - loss: 0.1403 - accuracy: 1.0000 - val_loss: 0.0279 - val_accuracy: 1.0000\n",
      "Epoch 3/100\n",
      "65/65 [==============================] - 0s 7ms/step - loss: 0.0160 - accuracy: 1.0000 - val_loss: 0.0075 - val_accuracy: 1.0000\n",
      "Epoch 4/100\n",
      "65/65 [==============================] - 1s 8ms/step - loss: 0.0060 - accuracy: 1.0000 - val_loss: 0.0036 - val_accuracy: 1.0000\n",
      "Epoch 5/100\n",
      "65/65 [==============================] - 0s 7ms/step - loss: 0.0033 - accuracy: 1.0000 - val_loss: 0.0022 - val_accuracy: 1.0000\n",
      "Epoch 6/100\n",
      "65/65 [==============================] - 1s 10ms/step - loss: 0.0023 - accuracy: 1.0000 - val_loss: 0.0014 - val_accuracy: 1.0000\n",
      "Epoch 7/100\n",
      "65/65 [==============================] - 1s 11ms/step - loss: 0.0014 - accuracy: 1.0000 - val_loss: 9.9823e-04 - val_accuracy: 1.0000\n",
      "Epoch 8/100\n",
      "65/65 [==============================] - 1s 9ms/step - loss: 9.9036e-04 - accuracy: 1.0000 - val_loss: 7.5252e-04 - val_accuracy: 1.0000\n",
      "Epoch 9/100\n",
      "65/65 [==============================] - 0s 5ms/step - loss: 7.8925e-04 - accuracy: 1.0000 - val_loss: 5.9240e-04 - val_accuracy: 1.0000\n",
      "Epoch 10/100\n",
      "65/65 [==============================] - 0s 5ms/step - loss: 6.1793e-04 - accuracy: 1.0000 - val_loss: 4.7917e-04 - val_accuracy: 1.0000\n",
      "Epoch 11/100\n",
      "65/65 [==============================] - 0s 5ms/step - loss: 5.1416e-04 - accuracy: 1.0000 - val_loss: 3.8680e-04 - val_accuracy: 1.0000\n",
      "Epoch 12/100\n",
      "65/65 [==============================] - 0s 5ms/step - loss: 4.2077e-04 - accuracy: 1.0000 - val_loss: 3.2518e-04 - val_accuracy: 1.0000\n",
      "Epoch 13/100\n",
      "65/65 [==============================] - 0s 5ms/step - loss: 3.4845e-04 - accuracy: 1.0000 - val_loss: 2.7909e-04 - val_accuracy: 1.0000\n",
      "Epoch 14/100\n",
      "65/65 [==============================] - 0s 5ms/step - loss: 2.9603e-04 - accuracy: 1.0000 - val_loss: 2.3375e-04 - val_accuracy: 1.0000\n",
      "Epoch 15/100\n",
      "65/65 [==============================] - 0s 5ms/step - loss: 2.6263e-04 - accuracy: 1.0000 - val_loss: 2.0568e-04 - val_accuracy: 1.0000\n",
      "Epoch 16/100\n",
      "65/65 [==============================] - 0s 7ms/step - loss: 2.3322e-04 - accuracy: 1.0000 - val_loss: 1.8159e-04 - val_accuracy: 1.0000\n",
      "Epoch 17/100\n",
      "65/65 [==============================] - 0s 5ms/step - loss: 1.9222e-04 - accuracy: 1.0000 - val_loss: 1.5862e-04 - val_accuracy: 1.0000\n",
      "Epoch 18/100\n",
      "65/65 [==============================] - 0s 5ms/step - loss: 1.7209e-04 - accuracy: 1.0000 - val_loss: 1.3820e-04 - val_accuracy: 1.0000\n",
      "Epoch 19/100\n",
      "65/65 [==============================] - 0s 5ms/step - loss: 1.5664e-04 - accuracy: 1.0000 - val_loss: 1.2573e-04 - val_accuracy: 1.0000\n",
      "Epoch 20/100\n",
      "65/65 [==============================] - 0s 5ms/step - loss: 1.3866e-04 - accuracy: 1.0000 - val_loss: 1.1103e-04 - val_accuracy: 1.0000\n",
      "Epoch 21/100\n",
      "65/65 [==============================] - 0s 5ms/step - loss: 1.2229e-04 - accuracy: 1.0000 - val_loss: 9.9467e-05 - val_accuracy: 1.0000\n",
      "Epoch 22/100\n",
      "65/65 [==============================] - 0s 5ms/step - loss: 1.1160e-04 - accuracy: 1.0000 - val_loss: 8.9808e-05 - val_accuracy: 1.0000\n",
      "Epoch 23/100\n",
      "65/65 [==============================] - 0s 5ms/step - loss: 1.0042e-04 - accuracy: 1.0000 - val_loss: 8.2510e-05 - val_accuracy: 1.0000\n",
      "Epoch 24/100\n",
      "65/65 [==============================] - 0s 5ms/step - loss: 9.2141e-05 - accuracy: 1.0000 - val_loss: 7.4832e-05 - val_accuracy: 1.0000\n",
      "Epoch 25/100\n",
      "65/65 [==============================] - 0s 5ms/step - loss: 8.2664e-05 - accuracy: 1.0000 - val_loss: 6.7986e-05 - val_accuracy: 1.0000\n",
      "Epoch 26/100\n",
      "65/65 [==============================] - 0s 5ms/step - loss: 8.0055e-05 - accuracy: 1.0000 - val_loss: 6.3001e-05 - val_accuracy: 1.0000\n",
      "Epoch 27/100\n",
      "65/65 [==============================] - 0s 5ms/step - loss: 7.2049e-05 - accuracy: 1.0000 - val_loss: 5.7922e-05 - val_accuracy: 1.0000\n",
      "Epoch 28/100\n",
      "65/65 [==============================] - 0s 5ms/step - loss: 6.6116e-05 - accuracy: 1.0000 - val_loss: 5.2750e-05 - val_accuracy: 1.0000\n",
      "Epoch 29/100\n",
      "65/65 [==============================] - 0s 5ms/step - loss: 5.8886e-05 - accuracy: 1.0000 - val_loss: 4.9048e-05 - val_accuracy: 1.0000\n",
      "Epoch 30/100\n",
      "65/65 [==============================] - 0s 5ms/step - loss: 5.5843e-05 - accuracy: 1.0000 - val_loss: 4.4924e-05 - val_accuracy: 1.0000\n",
      "Epoch 31/100\n",
      "65/65 [==============================] - 0s 5ms/step - loss: 5.0181e-05 - accuracy: 1.0000 - val_loss: 4.2088e-05 - val_accuracy: 1.0000\n",
      "Epoch 32/100\n",
      "65/65 [==============================] - 0s 5ms/step - loss: 4.8273e-05 - accuracy: 1.0000 - val_loss: 3.9240e-05 - val_accuracy: 1.0000\n",
      "Epoch 33/100\n",
      "65/65 [==============================] - 0s 5ms/step - loss: 4.4003e-05 - accuracy: 1.0000 - val_loss: 3.6323e-05 - val_accuracy: 1.0000\n",
      "Epoch 34/100\n",
      "65/65 [==============================] - 0s 5ms/step - loss: 4.1070e-05 - accuracy: 1.0000 - val_loss: 3.3917e-05 - val_accuracy: 1.0000\n",
      "Epoch 35/100\n",
      "65/65 [==============================] - 0s 7ms/step - loss: 3.7660e-05 - accuracy: 1.0000 - val_loss: 3.1466e-05 - val_accuracy: 1.0000\n",
      "Epoch 36/100\n",
      "65/65 [==============================] - 1s 9ms/step - loss: 3.5246e-05 - accuracy: 1.0000 - val_loss: 2.9703e-05 - val_accuracy: 1.0000\n",
      "Epoch 37/100\n",
      "65/65 [==============================] - 0s 6ms/step - loss: 3.2930e-05 - accuracy: 1.0000 - val_loss: 2.7889e-05 - val_accuracy: 1.0000\n",
      "Epoch 38/100\n",
      "65/65 [==============================] - 0s 5ms/step - loss: 3.1304e-05 - accuracy: 1.0000 - val_loss: 2.6625e-05 - val_accuracy: 1.0000\n",
      "Epoch 39/100\n",
      "65/65 [==============================] - 0s 5ms/step - loss: 2.9245e-05 - accuracy: 1.0000 - val_loss: 2.4313e-05 - val_accuracy: 1.0000\n",
      "Epoch 40/100\n",
      "65/65 [==============================] - 0s 5ms/step - loss: 2.7940e-05 - accuracy: 1.0000 - val_loss: 2.3542e-05 - val_accuracy: 1.0000\n",
      "Epoch 41/100\n",
      "65/65 [==============================] - 0s 5ms/step - loss: 2.5456e-05 - accuracy: 1.0000 - val_loss: 2.1605e-05 - val_accuracy: 1.0000\n",
      "Epoch 42/100\n",
      "65/65 [==============================] - 0s 5ms/step - loss: 2.4146e-05 - accuracy: 1.0000 - val_loss: 2.0412e-05 - val_accuracy: 1.0000\n",
      "Epoch 43/100\n",
      "65/65 [==============================] - 0s 5ms/step - loss: 2.2588e-05 - accuracy: 1.0000 - val_loss: 1.9152e-05 - val_accuracy: 1.0000\n",
      "Epoch 44/100\n",
      "65/65 [==============================] - 0s 5ms/step - loss: 2.1707e-05 - accuracy: 1.0000 - val_loss: 1.8171e-05 - val_accuracy: 1.0000\n",
      "Epoch 45/100\n",
      "65/65 [==============================] - 0s 5ms/step - loss: 1.9934e-05 - accuracy: 1.0000 - val_loss: 1.7111e-05 - val_accuracy: 1.0000\n",
      "Epoch 46/100\n",
      "65/65 [==============================] - 0s 5ms/step - loss: 1.9240e-05 - accuracy: 1.0000 - val_loss: 1.6051e-05 - val_accuracy: 1.0000\n",
      "Epoch 47/100\n",
      "65/65 [==============================] - 0s 5ms/step - loss: 1.7917e-05 - accuracy: 1.0000 - val_loss: 1.5242e-05 - val_accuracy: 1.0000\n",
      "Epoch 48/100\n",
      "65/65 [==============================] - 0s 6ms/step - loss: 1.6999e-05 - accuracy: 1.0000 - val_loss: 1.4351e-05 - val_accuracy: 1.0000\n",
      "Epoch 49/100\n",
      "65/65 [==============================] - 0s 6ms/step - loss: 1.6020e-05 - accuracy: 1.0000 - val_loss: 1.3630e-05 - val_accuracy: 1.0000\n",
      "Epoch 50/100\n",
      "65/65 [==============================] - 0s 5ms/step - loss: 1.4964e-05 - accuracy: 1.0000 - val_loss: 1.2992e-05 - val_accuracy: 1.0000\n",
      "Epoch 51/100\n",
      "65/65 [==============================] - 1s 9ms/step - loss: 1.4178e-05 - accuracy: 1.0000 - val_loss: 1.2187e-05 - val_accuracy: 1.0000\n",
      "Epoch 52/100\n",
      "65/65 [==============================] - 0s 6ms/step - loss: 1.3364e-05 - accuracy: 1.0000 - val_loss: 1.1562e-05 - val_accuracy: 1.0000\n",
      "Epoch 53/100\n",
      "65/65 [==============================] - 1s 9ms/step - loss: 1.2687e-05 - accuracy: 1.0000 - val_loss: 1.1022e-05 - val_accuracy: 1.0000\n",
      "Epoch 54/100\n",
      "65/65 [==============================] - 0s 5ms/step - loss: 1.1985e-05 - accuracy: 1.0000 - val_loss: 1.0502e-05 - val_accuracy: 1.0000\n",
      "Epoch 55/100\n",
      "65/65 [==============================] - 0s 5ms/step - loss: 1.1447e-05 - accuracy: 1.0000 - val_loss: 9.9530e-06 - val_accuracy: 1.0000\n",
      "Epoch 56/100\n",
      "65/65 [==============================] - 0s 6ms/step - loss: 1.1086e-05 - accuracy: 1.0000 - val_loss: 9.4498e-06 - val_accuracy: 1.0000\n",
      "Epoch 57/100\n",
      "65/65 [==============================] - 0s 5ms/step - loss: 1.0333e-05 - accuracy: 1.0000 - val_loss: 9.0539e-06 - val_accuracy: 1.0000\n",
      "Epoch 58/100\n",
      "65/65 [==============================] - 0s 5ms/step - loss: 9.8195e-06 - accuracy: 1.0000 - val_loss: 8.5843e-06 - val_accuracy: 1.0000\n",
      "Epoch 59/100\n",
      "65/65 [==============================] - 0s 5ms/step - loss: 9.3170e-06 - accuracy: 1.0000 - val_loss: 8.2385e-06 - val_accuracy: 1.0000\n",
      "Epoch 60/100\n",
      "65/65 [==============================] - 0s 5ms/step - loss: 9.0529e-06 - accuracy: 1.0000 - val_loss: 7.9023e-06 - val_accuracy: 1.0000\n",
      "Epoch 61/100\n",
      "65/65 [==============================] - 0s 5ms/step - loss: 8.6987e-06 - accuracy: 1.0000 - val_loss: 7.4738e-06 - val_accuracy: 1.0000\n",
      "Epoch 62/100\n",
      "65/65 [==============================] - 0s 5ms/step - loss: 7.9859e-06 - accuracy: 1.0000 - val_loss: 7.1939e-06 - val_accuracy: 1.0000\n",
      "Epoch 63/100\n",
      "65/65 [==============================] - 0s 5ms/step - loss: 7.6836e-06 - accuracy: 1.0000 - val_loss: 6.7998e-06 - val_accuracy: 1.0000\n",
      "Epoch 64/100\n",
      "65/65 [==============================] - 0s 5ms/step - loss: 7.3983e-06 - accuracy: 1.0000 - val_loss: 6.5284e-06 - val_accuracy: 1.0000\n",
      "Epoch 65/100\n",
      "65/65 [==============================] - 0s 5ms/step - loss: 7.3630e-06 - accuracy: 1.0000 - val_loss: 6.2543e-06 - val_accuracy: 1.0000\n",
      "Epoch 66/100\n",
      "65/65 [==============================] - 0s 5ms/step - loss: 6.6170e-06 - accuracy: 1.0000 - val_loss: 5.9055e-06 - val_accuracy: 1.0000\n",
      "Epoch 67/100\n",
      "65/65 [==============================] - 0s 5ms/step - loss: 6.5791e-06 - accuracy: 1.0000 - val_loss: 5.5368e-06 - val_accuracy: 1.0000\n",
      "Epoch 68/100\n",
      "65/65 [==============================] - 0s 5ms/step - loss: 5.9487e-06 - accuracy: 1.0000 - val_loss: 5.3088e-06 - val_accuracy: 1.0000\n",
      "Epoch 69/100\n",
      "65/65 [==============================] - 0s 5ms/step - loss: 5.6490e-06 - accuracy: 1.0000 - val_loss: 5.0930e-06 - val_accuracy: 1.0000\n",
      "Epoch 70/100\n",
      "65/65 [==============================] - 0s 5ms/step - loss: 5.5184e-06 - accuracy: 1.0000 - val_loss: 4.8651e-06 - val_accuracy: 1.0000\n",
      "Epoch 71/100\n",
      "65/65 [==============================] - 0s 5ms/step - loss: 5.1550e-06 - accuracy: 1.0000 - val_loss: 4.6513e-06 - val_accuracy: 1.0000\n",
      "Epoch 72/100\n",
      "65/65 [==============================] - 0s 5ms/step - loss: 4.9678e-06 - accuracy: 1.0000 - val_loss: 4.4713e-06 - val_accuracy: 1.0000\n",
      "Epoch 73/100\n",
      "65/65 [==============================] - 0s 5ms/step - loss: 4.7232e-06 - accuracy: 1.0000 - val_loss: 4.3358e-06 - val_accuracy: 1.0000\n",
      "Epoch 74/100\n",
      "65/65 [==============================] - 0s 5ms/step - loss: 4.5178e-06 - accuracy: 1.0000 - val_loss: 4.1085e-06 - val_accuracy: 1.0000\n",
      "Epoch 75/100\n",
      "65/65 [==============================] - 1s 9ms/step - loss: 4.2860e-06 - accuracy: 1.0000 - val_loss: 3.9712e-06 - val_accuracy: 1.0000\n",
      "Epoch 76/100\n",
      "65/65 [==============================] - 1s 8ms/step - loss: 4.0941e-06 - accuracy: 1.0000 - val_loss: 3.8016e-06 - val_accuracy: 1.0000\n",
      "Epoch 77/100\n",
      "65/65 [==============================] - 0s 5ms/step - loss: 3.8950e-06 - accuracy: 1.0000 - val_loss: 3.6265e-06 - val_accuracy: 1.0000\n",
      "Epoch 78/100\n",
      "65/65 [==============================] - 0s 5ms/step - loss: 3.7531e-06 - accuracy: 1.0000 - val_loss: 3.5063e-06 - val_accuracy: 1.0000\n",
      "Epoch 79/100\n",
      "65/65 [==============================] - 0s 5ms/step - loss: 3.6966e-06 - accuracy: 1.0000 - val_loss: 3.3273e-06 - val_accuracy: 1.0000\n",
      "Epoch 80/100\n",
      "65/65 [==============================] - 0s 5ms/step - loss: 3.4032e-06 - accuracy: 1.0000 - val_loss: 3.2022e-06 - val_accuracy: 1.0000\n",
      "Epoch 81/100\n",
      "65/65 [==============================] - 0s 5ms/step - loss: 3.2297e-06 - accuracy: 1.0000 - val_loss: 3.0677e-06 - val_accuracy: 1.0000\n",
      "Epoch 82/100\n",
      "65/65 [==============================] - 1s 9ms/step - loss: 3.1770e-06 - accuracy: 1.0000 - val_loss: 2.9673e-06 - val_accuracy: 1.0000\n",
      "Epoch 83/100\n",
      "65/65 [==============================] - 0s 5ms/step - loss: 2.9741e-06 - accuracy: 1.0000 - val_loss: 2.8488e-06 - val_accuracy: 1.0000\n",
      "Epoch 84/100\n",
      "65/65 [==============================] - 0s 5ms/step - loss: 2.8908e-06 - accuracy: 1.0000 - val_loss: 2.7261e-06 - val_accuracy: 1.0000\n",
      "Epoch 85/100\n",
      "65/65 [==============================] - 0s 5ms/step - loss: 2.7711e-06 - accuracy: 1.0000 - val_loss: 2.6170e-06 - val_accuracy: 1.0000\n",
      "Epoch 86/100\n",
      "65/65 [==============================] - 0s 5ms/step - loss: 2.6413e-06 - accuracy: 1.0000 - val_loss: 2.4939e-06 - val_accuracy: 1.0000\n",
      "Epoch 87/100\n",
      "65/65 [==============================] - 0s 6ms/step - loss: 2.5434e-06 - accuracy: 1.0000 - val_loss: 2.4283e-06 - val_accuracy: 1.0000\n",
      "Epoch 88/100\n",
      "65/65 [==============================] - 0s 7ms/step - loss: 2.4106e-06 - accuracy: 1.0000 - val_loss: 2.3132e-06 - val_accuracy: 1.0000\n",
      "Epoch 89/100\n",
      "65/65 [==============================] - 0s 7ms/step - loss: 2.3270e-06 - accuracy: 1.0000 - val_loss: 2.2246e-06 - val_accuracy: 1.0000\n",
      "Epoch 90/100\n",
      "65/65 [==============================] - 0s 7ms/step - loss: 2.2258e-06 - accuracy: 1.0000 - val_loss: 2.1516e-06 - val_accuracy: 1.0000\n",
      "Epoch 91/100\n",
      "65/65 [==============================] - 0s 5ms/step - loss: 2.2457e-06 - accuracy: 1.0000 - val_loss: 2.0856e-06 - val_accuracy: 1.0000\n",
      "Epoch 92/100\n",
      "65/65 [==============================] - 0s 6ms/step - loss: 2.0294e-06 - accuracy: 1.0000 - val_loss: 1.9685e-06 - val_accuracy: 1.0000\n",
      "Epoch 93/100\n",
      "65/65 [==============================] - 0s 5ms/step - loss: 1.9495e-06 - accuracy: 1.0000 - val_loss: 1.8986e-06 - val_accuracy: 1.0000\n",
      "Epoch 94/100\n",
      "65/65 [==============================] - 0s 5ms/step - loss: 1.9255e-06 - accuracy: 1.0000 - val_loss: 1.8173e-06 - val_accuracy: 1.0000\n",
      "Epoch 95/100\n",
      "65/65 [==============================] - 0s 5ms/step - loss: 1.8565e-06 - accuracy: 1.0000 - val_loss: 1.7481e-06 - val_accuracy: 1.0000\n",
      "Epoch 96/100\n",
      "65/65 [==============================] - 0s 5ms/step - loss: 1.6949e-06 - accuracy: 1.0000 - val_loss: 1.6811e-06 - val_accuracy: 1.0000\n",
      "Epoch 97/100\n",
      "65/65 [==============================] - 0s 5ms/step - loss: 1.6579e-06 - accuracy: 1.0000 - val_loss: 1.6154e-06 - val_accuracy: 1.0000\n",
      "Epoch 98/100\n",
      "65/65 [==============================] - 0s 5ms/step - loss: 1.5788e-06 - accuracy: 1.0000 - val_loss: 1.5612e-06 - val_accuracy: 1.0000\n",
      "Epoch 99/100\n",
      "65/65 [==============================] - 0s 5ms/step - loss: 1.5558e-06 - accuracy: 1.0000 - val_loss: 1.5115e-06 - val_accuracy: 1.0000\n",
      "Epoch 100/100\n",
      "65/65 [==============================] - 0s 5ms/step - loss: 1.4420e-06 - accuracy: 1.0000 - val_loss: 1.4420e-06 - val_accuracy: 1.0000\n"
     ]
    }
   ],
   "source": [
    "history = model.fit(x=X_train, y=y_train_adjusted, validation_data=(X_test, y_test_adjusted), batch_size=16, epochs=100)"
   ]
  },
  {
   "cell_type": "code",
   "execution_count": null,
   "id": "3c6fdb31-337a-4c19-b99f-aa5bb299d653",
   "metadata": {},
   "outputs": [],
   "source": []
  }
 ],
 "metadata": {
  "kernelspec": {
   "display_name": "Python 3 (ipykernel)",
   "language": "python",
   "name": "python3"
  },
  "language_info": {
   "codemirror_mode": {
    "name": "ipython",
    "version": 3
   },
   "file_extension": ".py",
   "mimetype": "text/x-python",
   "name": "python",
   "nbconvert_exporter": "python",
   "pygments_lexer": "ipython3",
   "version": "3.9.0"
  }
 },
 "nbformat": 4,
 "nbformat_minor": 5
}
